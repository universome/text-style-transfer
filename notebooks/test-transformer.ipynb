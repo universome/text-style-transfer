{
 "cells": [
  {
   "cell_type": "markdown",
   "metadata": {},
   "source": [
    "Here we should make sure that our Transformer implementation works properly. For this purpose we gonna learn to translate on En-De pair"
   ]
  },
  {
   "cell_type": "code",
   "execution_count": 1,
   "metadata": {},
   "outputs": [],
   "source": [
    "import sys; sys.path += ['..', '../src']"
   ]
  },
  {
   "cell_type": "markdown",
   "metadata": {},
   "source": [
    "Let's tokenize our sentences (TODO: should we use `moses` for this and not `nltk` because moses can normalize punctuation?)"
   ]
  },
  {
   "cell_type": "code",
   "execution_count": 24,
   "metadata": {},
   "outputs": [],
   "source": [
    "# %%bash\n",
    "\n",
    "# cat ../data/multi30k/val.en | \\\n",
    "#     ../ext-libs/mosesdecoder/scripts/tokenizer/normalize-punctuation.perl | \\\n",
    "#     ../ext-libs/mosesdecoder/scripts/tokenizer/tokenizer.perl -threads 1 > \\\n",
    "#     ../data/generated/kek\n",
    "    \n",
    "# head ../data/generated/kek"
   ]
  },
  {
   "cell_type": "code",
   "execution_count": 31,
   "metadata": {},
   "outputs": [],
   "source": [
    "import os\n",
    "\n",
    "input_data_dir = '../data/multi30k'\n",
    "output_data_dir = '../data/generated'\n",
    "\n",
    "if not os.path.exists(output_data_dir): os.mkdir(output_data_dir)"
   ]
  },
  {
   "cell_type": "code",
   "execution_count": 28,
   "metadata": {},
   "outputs": [
    {
     "name": "stdout",
     "output_type": "stream",
     "text": [
      "[nltk_data] Downloading package punkt to\n",
      "[nltk_data]     /Users/universome/nltk_data...\n",
      "[nltk_data]   Package punkt is already up-to-date!\n"
     ]
    }
   ],
   "source": [
    "import nltk\n",
    "nltk.download('punkt')\n",
    "\n",
    "for file_name in os.listdir(input_data_dir):\n",
    "    input_file_path = '{}/{}'.format(input_data_dir, file_name)\n",
    "    output_file_path = '{}/{}.tok'.format(output_data_dir, file_name)\n",
    "    \n",
    "    with open(input_file_path, 'r', encoding='utf-8') as file:\n",
    "        lines = file.read().splitlines()\n",
    "    \n",
    "    tokenized = [' '.join(nltk.word_tokenize(line)) for line in lines]\n",
    "    \n",
    "    with open(output_file_path, 'w', encoding='utf-8') as file:\n",
    "        for line in tokenized:\n",
    "            file.write(line + os.linesep)"
   ]
  },
  {
   "cell_type": "markdown",
   "metadata": {},
   "source": [
    "Generating BPEs (joint for both langs)"
   ]
  },
  {
   "cell_type": "code",
   "execution_count": 34,
   "metadata": {},
   "outputs": [],
   "source": [
    "%%bash\n",
    "src=\"../data/generated/train.en.tok\"\n",
    "trg=\"../data/generated/train.de.tok\"\n",
    "num_bpes=16000\n",
    "\n",
    "bpes=\"../data/generated/bpes\"\n",
    "src_vocab=\"../data/generated/vocab.en\"\n",
    "trg_vocab=\"../data/generated/vocab.de\"\n",
    "\n",
    "python ../ext-libs/subword-nmt/learn_joint_bpe_and_vocab.py \\\n",
    "    --input \"$src\" \"$trg\" \\\n",
    "    -s \"$num_bpes\" \\\n",
    "    -o \"$bpes\" \\\n",
    "    --write-vocabulary \"$src_vocab\" \"$trg_vocab\"\n",
    "\n",
    "# Now we should apply bpe for all our train/test/val files\n",
    "for file in $(ls ../data/multi30k)\n",
    "do\n",
    "    vocab=\"../data/generated/vocab.${file: -2}\"\n",
    "  \n",
    "    python ../ext-libs/subword-nmt/apply_bpe.py -c $bpes \\\n",
    "       --vocabulary \"$vocab\" \\\n",
    "       < \"../data/generated/$file.tok\" > \"../data/generated/$file.tok.bpe\"\n",
    "done"
   ]
  },
  {
   "cell_type": "markdown",
   "metadata": {},
   "source": [
    "Ok, now we have nice dataset, which we can use for training.\n",
    "So let's train our Transformer!"
   ]
  },
  {
   "cell_type": "code",
   "execution_count": 2,
   "metadata": {},
   "outputs": [],
   "source": [
    "import os\n",
    "from src.vocab import Vocab\n",
    "\n",
    "DATA_PATH = '../data/generated'\n",
    "\n",
    "train_src_path = os.path.join(DATA_PATH, 'train.en.tok.bpe')\n",
    "train_trg_path = os.path.join(DATA_PATH, 'train.de.tok.bpe')\n",
    "val_src_path = os.path.join(DATA_PATH, 'val.en.tok.bpe')\n",
    "val_trg_path = os.path.join(DATA_PATH, 'val.de.tok.bpe')\n",
    "\n",
    "train_src = open(train_src_path, 'r', encoding='utf-8').read().splitlines()\n",
    "train_trg = open(train_trg_path, 'r', encoding='utf-8').read().splitlines()\n",
    "val_src = open(val_src_path, 'r', encoding='utf-8').read().splitlines()\n",
    "val_trg = open(val_trg_path, 'r', encoding='utf-8').read().splitlines()\n",
    "\n",
    "train_src = [s.split() for s in train_src]\n",
    "train_trg = [s.split() for s in train_trg]\n",
    "val_src = [s.split() for s in val_src]\n",
    "val_trg = [s.split() for s in val_trg]\n",
    "\n",
    "vocab_src = Vocab.from_file(os.path.join(DATA_PATH, 'vocab.en'))\n",
    "vocab_trg = Vocab.from_file(os.path.join(DATA_PATH, 'vocab.de'))\n",
    "\n",
    "train_src_idx = [[vocab_src.token2id.get(t, vocab_src.unk) for t in s] for s in train_src]\n",
    "train_trg_idx = [[vocab_trg.token2id.get(t, vocab_trg.unk) for t in s] for s in train_trg]"
   ]
  },
  {
   "cell_type": "code",
   "execution_count": 5,
   "metadata": {},
   "outputs": [
    {
     "data": {
      "text/plain": [
       "<module 'src.transformer.modules' from '../src/transformer/modules.py'>"
      ]
     },
     "execution_count": 5,
     "metadata": {},
     "output_type": "execute_result"
    }
   ],
   "source": [
    "from importlib import reload\n",
    "import src.utils.data_utils\n",
    "import src.transformer.modules\n",
    "\n",
    "reload(src.utils.data_utils)\n",
    "reload(src.transformer.models)"
   ]
  },
  {
   "cell_type": "code",
   "execution_count": 7,
   "metadata": {},
   "outputs": [],
   "source": [
    "import tqdm\n",
    "\n",
    "from src.transformer.models import Transformer\n",
    "\n",
    "max_len = 50\n",
    "\n",
    "model = Transformer(\n",
    "    len(vocab_src),\n",
    "    len(vocab_trg),\n",
    "    max_len,\n",
    "    n_layers=4,\n",
    "    n_head=4,\n",
    "    d_word_vec=512,\n",
    "    d_model=512,\n",
    "    d_inner_hid=1024,\n",
    "    d_k=64,\n",
    "    d_v=64)"
   ]
  },
  {
   "cell_type": "code",
   "execution_count": 8,
   "metadata": {},
   "outputs": [
    {
     "data": {
      "image/png": "[encoded data removed]",
      "text/plain": [
       "<matplotlib.figure.Figure at 0x120039ac8>"
      ]
     },
     "metadata": {},
     "output_type": "display_data"
    },
    {
     "name": "stderr",
     "output_type": "stream",
     "text": [
      "                                             \r"
     ]
    }
   ],
   "source": [
    "import numpy as np\n",
    "from IPython.display import clear_output\n",
    "import matplotlib.pyplot as plt\n",
    "import pandas as pd\n",
    "%matplotlib inline\n",
    "\n",
    "import torch\n",
    "import torch.nn as nn\n",
    "from torch.optim import Adam\n",
    "from tqdm import tqdm\n",
    "tqdm.monitor_interval = 0\n",
    "\n",
    "from src.utils.data_utils import Batcher\n",
    "import src.transformer.constants as constants\n",
    "\n",
    "\n",
    "def get_performance(crit, pred, gold):\n",
    "    loss = crit(pred, gold.contiguous().view(-1))\n",
    "    pred = pred.max(1)[1]\n",
    "\n",
    "    gold = gold.contiguous().view(-1)\n",
    "    n_correct = pred.data.eq(gold.data)\n",
    "    n_correct = n_correct.masked_select(gold.ne(constants.PAD).data).sum()\n",
    "\n",
    "    return loss, n_correct\n",
    "\n",
    "\n",
    "def get_criterion(vocab_size):\n",
    "    ''' With PAD token zero weight '''\n",
    "    weight = torch.ones(vocab_size)\n",
    "    weight[constants.PAD] = 0\n",
    "\n",
    "    return nn.CrossEntropyLoss(weight)\n",
    "\n",
    "\n",
    "optimizer = Adam(model.get_trainable_parameters())\n",
    "criterion = get_criterion(len(vocab_trg))\n",
    "training_data = Batcher(train_src_idx[:8], train_trg_idx[:8], vocab_src.token2id, vocab_trg.token2id, batch_size=4)\n",
    "\n",
    "model.train()\n",
    "loss_history = []\n",
    "num_iters_done = 0\n",
    "\n",
    "for i in range(20):\n",
    "    for batch in tqdm(training_data, leave=False):\n",
    "        # prepare data\n",
    "        src, tgt = batch\n",
    "        gold = tgt[:, 1:]\n",
    "\n",
    "        # forward\n",
    "        optimizer.zero_grad()\n",
    "        pred = model(src, tgt)\n",
    "\n",
    "        # backward\n",
    "        loss, n_correct = get_performance(criterion, pred, gold)\n",
    "        loss.backward()\n",
    "\n",
    "        # update parameters\n",
    "        optimizer.step()\n",
    "\n",
    "        loss_history += [loss.data[0]]\n",
    "        num_iters_done += 1\n",
    "\n",
    "        if num_iters_done % 2 == 0:\n",
    "            clear_output(True)\n",
    "            plt.figure(figsize=[15,8])\n",
    "            plt.title(\"Batch loss\")\n",
    "            plt.plot(loss_history)\n",
    "            plt.plot(pd.DataFrame(np.array(loss_history)).ewm(span=20).mean())\n",
    "            plt.grid()\n",
    "            plt.show()"
   ]
  },
  {
   "cell_type": "code",
   "execution_count": 9,
   "metadata": {},
   "outputs": [],
   "source": [
    "batch = next(training_data)"
   ]
  },
  {
   "cell_type": "code",
   "execution_count": 10,
   "metadata": {},
   "outputs": [
    {
     "name": "stderr",
     "output_type": "stream",
     "text": [
      "100%|██████████| 20/20 [00:01<00:00, 11.80it/s]\n"
     ]
    }
   ],
   "source": [
    "translations = model.translate_batch(batch[0], max_len=20, beam_size=2)\n",
    "translations = np.array(translations)"
   ]
  },
  {
   "cell_type": "code",
   "execution_count": 11,
   "metadata": {},
   "outputs": [
    {
     "name": "stdout",
     "output_type": "stream",
     "text": [
      "Translated: Männer mit Schutzhelmen bedienen ein Antriebsradsystem . . . . . . . der Nähe\n",
      "Real      : Zwei junge weiße Männer sind im Freien in der Nähe vieler Büsche . __PAD__\n",
      "\n",
      "Translated: mit Schutzhelmen bedienen ein Antriebsradsystem . . . . . . . ein Fenster .\n",
      "Real      : Mehrere Männer mit Schutzhelmen bedienen ein Antriebsradsystem . __PAD__ __PAD__\n",
      "\n",
      "Translated: mit Schutzhelmen bedienen ein Antriebsradsystem . ein Fenster . . . der andere Mann sein\n",
      "Real      : Ein kleines Mädchen klettert in ein Spielhaus aus Holz . __PAD__ __PAD__ __PAD__ __PAD__\n",
      "\n",
      "Translated: mit Schutzhelmen bedienen ein Antriebsradsystem . . . . . . . . ein Fenster\n",
      "Real      : Ein Mann in einem blauen Hemd steht auf einer Leiter und putzt ein Fenster .\n",
      "\n"
     ]
    }
   ],
   "source": [
    "for i in range(len(translations)):\n",
    "    print('Translated:', vocab_trg.remove_bpe(vocab_trg.detokenize(translations[i])))\n",
    "    print('Real      :', vocab_trg.remove_bpe(vocab_trg.detokenize(batch[1].data[i])))\n",
    "    print()"
   ]
  }
 ],
 "metadata": {
  "kernelspec": {
   "display_name": "Python 3",
   "language": "python",
   "name": "python3"
  },
  "language_info": {
   "codemirror_mode": {
    "name": "ipython",
    "version": 3
   },
   "file_extension": ".py",
   "mimetype": "text/x-python",
   "name": "python",
   "nbconvert_exporter": "python",
   "pygments_lexer": "ipython3",
   "version": "3.6.3"
  }
 },
 "nbformat": 4,
 "nbformat_minor": 2
}
