{
 "cells": [
  {
   "cell_type": "markdown",
   "metadata": {},
   "source": [
    "Here we gonna run experiment with Transformer-CycleGAN. It gonna be cooool!\n",
    "\n",
    "First of all, we should use two transformers: src->trg and trg->src. We gonna sample from them and build cyclic loss:\n",
    "* take two unrelated examples, $x$ from `src` and $y$ from `trg`, translate them: $x \\to \\hat{y}, y \\to \\hat{x}$ and then translate them back. The result should be identical to original values: $x \\to \\hat{y} \\to x$ and $y \\to \\hat{x} \\to y$.\n",
    "\n",
    "We should also try:\n",
    "* using single Transformer for src->trg and trg->src translation (it is capable to do it in supervised regime)\n",
    "* adding noise\n",
    "* adding noise and learning as DAE\n",
    "* using learnt word embeddings\n",
    "* using strong discriminator (Transformer or RNN)\n",
    "* using shared encoder/decoder\n",
    "* using single discriminator\n",
    "* adding normalization between two generators\n",
    "* learning short sentences first and gradually increasing length (cause our time dependencies are way too long)"
   ]
  },
  {
   "cell_type": "code",
   "execution_count": 1,
   "metadata": {},
   "outputs": [],
   "source": [
    "%load_ext autoreload\n",
    "%autoreload 2\n",
    "# %aimport"
   ]
  },
  {
   "cell_type": "code",
   "execution_count": 2,
   "metadata": {},
   "outputs": [],
   "source": [
    "import sys; sys.path += ['..', '../src']"
   ]
  },
  {
   "cell_type": "code",
   "execution_count": 3,
   "metadata": {},
   "outputs": [],
   "source": [
    "import os\n",
    "from src.vocab import Vocab\n",
    "\n",
    "DATA_PATH = '../data/generated'\n",
    "max_len = 50 # Processing long sentences is slow\n",
    "\n",
    "train_src_path = os.path.join(DATA_PATH, 'train.en.tok.bpe')\n",
    "train_trg_path = os.path.join(DATA_PATH, 'train.fr.tok.bpe')\n",
    "val_src_path = os.path.join(DATA_PATH, 'val.en.tok.bpe')\n",
    "val_trg_path = os.path.join(DATA_PATH, 'val.fr.tok.bpe')\n",
    "\n",
    "train_src = open(train_src_path, 'r', encoding='utf-8').read().splitlines()\n",
    "train_trg = open(train_trg_path, 'r', encoding='utf-8').read().splitlines()\n",
    "val_src = open(val_src_path, 'r', encoding='utf-8').read().splitlines()\n",
    "val_trg = open(val_trg_path, 'r', encoding='utf-8').read().splitlines()\n",
    "\n",
    "# Simple preprocessing: crop lines and remove empty sentences\n",
    "train_src = [s.split()[:max_len-2] for s in train_src if len(s) != 0]\n",
    "train_trg = [s.split()[:max_len-2] for s in train_trg if len(s) != 0]\n",
    "val_src = [s.split()[:max_len-2] for s in val_src if len(s) != 0]\n",
    "val_trg = [s.split()[:max_len-2] for s in val_trg if len(s) != 0]\n",
    "\n",
    "vocab_src = Vocab.from_file(os.path.join(DATA_PATH, 'vocab.en'))\n",
    "vocab_trg = Vocab.from_file(os.path.join(DATA_PATH, 'vocab.fr'))\n",
    "\n",
    "train_src_idx = [[vocab_src.token2id.get(t, vocab_src.unk) for t in s] for s in train_src]\n",
    "train_trg_idx = [[vocab_trg.token2id.get(t, vocab_trg.unk) for t in s] for s in train_trg]\n",
    "val_src_idx = [[vocab_src.token2id.get(t, vocab_src.unk) for t in s] for s in val_src]\n",
    "val_trg_idx = [[vocab_trg.token2id.get(t, vocab_trg.unk) for t in s] for s in val_trg]"
   ]
  },
  {
   "cell_type": "code",
   "execution_count": 4,
   "metadata": {},
   "outputs": [],
   "source": [
    "import os\n",
    "\n",
    "from src.transformer.models import Transformer\n",
    "from src.utils.data_utils import load_embeddings, init_emb_matrix\n",
    "from src.models import TransformerClassifier\n",
    "\n",
    "transformer_kwargs = {\n",
    "    'n_layers': 2,\n",
    "    'n_head': 3,\n",
    "    'd_word_vec': 128,\n",
    "    'd_model': 128,\n",
    "    'd_inner_hid': 256,\n",
    "    'd_k': 32,\n",
    "    'd_v': 32\n",
    "}\n",
    "\n",
    "# transformer_src_to_trg = Transformer(len(vocab_src), len(vocab_trg), max_len)\n",
    "transformer_src_to_trg = Transformer(len(vocab_src), len(vocab_trg), max_len, **transformer_kwargs)\n",
    "discriminator_trg = TransformerClassifier(len(vocab_trg), 2, max_len, **transformer_kwargs)\n",
    "\n",
    "# transformer_trg_to_src = Transformer(len(vocab_trg), len(vocab_src), max_len)\n",
    "transformer_trg_to_src = Transformer(len(vocab_trg), len(vocab_src), max_len, **transformer_kwargs)\n",
    "discriminator_src = TransformerClassifier(len(vocab_src), 2, max_len, **transformer_kwargs)\n",
    "\n",
    "# Initializing transformer encoder and decoder with embeddings\n",
    "# embeddings_src = load_embeddings('../trained_models/europarl.en.tok.bpe_cbow.vec')\n",
    "# embeddings_trg = load_embeddings('../trained_models/europarl.fr.tok.bpe_cbow.vec')\n",
    "\n",
    "# init_emb_matrix(transformer_src_to_trg.encoder.src_word_emb.weight.data, embeddings_src, vocab_src.token2id)\n",
    "# init_emb_matrix(transformer_src_to_trg.decoder.tgt_word_emb.weight.data, embeddings_trg, vocab_trg.token2id)\n",
    "\n",
    "# init_emb_matrix(transformer_trg_to_src.encoder.src_word_emb.weight.data, embeddings_trg, vocab_trg.token2id)\n",
    "# init_emb_matrix(transformer_trg_to_src.decoder.tgt_word_emb.weight.data, embeddings_src, vocab_src.token2id)"
   ]
  },
  {
   "cell_type": "code",
   "execution_count": 5,
   "metadata": {},
   "outputs": [],
   "source": [
    "# from src.utils.batcher import Batcher\n",
    "\n",
    "# training_data = Batcher(train_src_idx, train_trg_idx, vocab_src.token2id,\n",
    "#                         vocab_trg.token2id, batch_size=2, shuffle=False)\n",
    "\n",
    "# src, trg = next(training_data)"
   ]
  },
  {
   "cell_type": "code",
   "execution_count": 6,
   "metadata": {},
   "outputs": [
    {
     "data": {
      "image/png": "[encoded data removed]",
      "text/plain": [
       "<matplotlib.figure.Figure at 0x10663c470>"
      ]
     },
     "metadata": {},
     "output_type": "display_data"
    }
   ],
   "source": [
    "import matplotlib.pyplot as plt\n",
    "%matplotlib inline\n",
    "\n",
    "plt.hist([len(s) for s in train_src_idx], bins=50);"
   ]
  },
  {
   "cell_type": "code",
   "execution_count": null,
   "metadata": {},
   "outputs": [
    {
     "name": "stderr",
     "output_type": "stream",
     "text": [
      "  0%|          | 48/14500 [03:00<15:04:54,  3.76s/it]"
     ]
    }
   ],
   "source": [
    "import torch\n",
    "import torch.nn as nn\n",
    "from torch.autograd import Variable\n",
    "from torch.optim import Adam\n",
    "from tqdm import tqdm\n",
    "\n",
    "from src.utils.batcher import Batcher\n",
    "import src.transformer.constants as constants\n",
    "\n",
    "\n",
    "use_cuda = torch.cuda.is_available()\n",
    "training_data = Batcher(train_src_idx, train_trg_idx, vocab_src.token2id,\n",
    "                        vocab_trg.token2id, batch_size=2, shuffle=False)\n",
    "\n",
    "\n",
    "def reconstruction_criterion(vocab_size):\n",
    "    ''' With PAD token zero weight '''\n",
    "    weight = torch.ones(vocab_size)\n",
    "    weight[constants.PAD] = 0\n",
    "\n",
    "    return nn.CrossEntropyLoss(weight)\n",
    "\n",
    "\n",
    "adv_criterion = nn.BCEWithLogitsLoss()\n",
    "reconstruct_src_criterion = reconstruction_criterion(len(vocab_src))\n",
    "reconstruct_trg_criterion = reconstruction_criterion(len(vocab_trg))\n",
    "\n",
    "transformer_src_to_trg_optimizer = Adam(transformer_src_to_trg.get_trainable_parameters(), lr=1e-4)\n",
    "transformer_trg_to_src_optimizer = Adam(transformer_trg_to_src.get_trainable_parameters(), lr=1e-4)\n",
    "discriminator_src_optimizer = Adam(discriminator_src.get_trainable_parameters(), lr=1e-4)\n",
    "discriminator_trg_optimizer = Adam(discriminator_trg.get_trainable_parameters(), lr=1e-4)\n",
    "\n",
    "for src, trg in tqdm(training_data):\n",
    "    # Normal forward pass\n",
    "    preds_src_to_trg = transformer_src_to_trg.differentiable_translate(src, vocab_trg)\n",
    "    preds_trg_to_src = transformer_trg_to_src.differentiable_translate(trg, vocab_src)\n",
    "    \n",
    "    # Running our discriminators to predict domains\n",
    "    # Target discriminator\n",
    "    true_domains_preds_trg = discriminator_trg(trg)\n",
    "    fake_domains_preds_trg = discriminator_trg(preds_src_to_trg, one_hot_input=True)\n",
    "    true_domains_preds_src = discriminator_src(src)\n",
    "    fake_domains_preds_src = discriminator_src(preds_trg_to_src, one_hot_input=True)\n",
    "    \n",
    "    true_domains_y_trg = Variable(torch.zeros(len(true_domains_preds_trg)))\n",
    "    fake_domains_y_trg = Variable(torch.ones(len(fake_domains_preds_trg)))\n",
    "    true_domains_y_src = Variable(torch.zeros(len(true_domains_preds_src)))\n",
    "    fake_domains_y_src = Variable(torch.ones(len(fake_domains_preds_src)))\n",
    "    \n",
    "    # Revert classes for generator\n",
    "    fake_domains_y_trg_for_gen = Variable(torch.zeros(len(fake_domains_preds_trg)))\n",
    "    fake_domains_y_src_for_gen = Variable(torch.zeros(len(fake_domains_preds_src)))\n",
    "    \n",
    "    if use_cuda:\n",
    "        true_domains_y_trg.cuda()\n",
    "        fake_domains_y_trg.cuda()\n",
    "        true_domains_y_src.cuda()\n",
    "        fake_domains_y_src.cuda()\n",
    "        fake_domains_y_trg_for_gen.cuda()\n",
    "        fake_domains_y_src_for_gen.cuda()\n",
    "    \n",
    "    discr_src_loss_on_true = adv_criterion(true_domains_preds_trg, true_domains_y_trg)\n",
    "    discr_src_loss_on_fake = adv_criterion(fake_domains_preds_trg, fake_domains_y_trg)\n",
    "    discr_trg_loss_on_true = adv_criterion(true_domains_preds_trg, true_domains_y_trg)\n",
    "    discr_trg_loss_on_fake = adv_criterion(fake_domains_preds_trg, fake_domains_y_trg)\n",
    "    discr_src_loss = discr_src_loss_on_true + discr_src_loss_on_fake\n",
    "    discr_trg_loss = discr_trg_loss_on_true + discr_trg_loss_on_fake\n",
    "    \n",
    "    # Uff, ok. Let's compute losses for our generators\n",
    "    gen_src_to_trg_loss = adv_criterion(fake_domains_preds_trg, fake_domains_y_trg_for_gen)\n",
    "    gen_trg_to_src_loss = adv_criterion(fake_domains_preds_src, fake_domains_y_src_for_gen)\n",
    "    \n",
    "    # \"Back-translation\" passes\n",
    "    preds_src_to_trg_to_src = transformer_trg_to_src(preds_src_to_trg, src, one_hot_src=True)\n",
    "    preds_trg_to_src_to_trg = transformer_src_to_trg(preds_trg_to_src, trg, one_hot_src=True)\n",
    "    \n",
    "    # Trying to reconstruct what we have just back-translated\n",
    "    src_reconstruction_loss = reconstruct_src_criterion(preds_src_to_trg_to_src, src[:, 1:].contiguous().view(-1))\n",
    "    trg_reconstruction_loss = reconstruct_trg_criterion(preds_trg_to_src_to_trg, trg[:, 1:].contiguous().view(-1))\n",
    "    \n",
    "    ### Update weights ###\n",
    "    # Let's update discriminators first and forget about them instantly\n",
    "    discriminator_src_optimizer.zero_grad()\n",
    "    discriminator_trg_optimizer.zero_grad()\n",
    "    discr_src_loss.backward(retain_graph=True)\n",
    "    discr_trg_loss.backward(retain_graph=True)\n",
    "    discriminator_src_optimizer.step()\n",
    "    discriminator_trg_optimizer.step()\n",
    "    \n",
    "    # Now let's optimize reconstruction and generator losses\n",
    "    transformer_src_to_trg_optimizer.zero_grad()\n",
    "    transformer_trg_to_src_optimizer.zero_grad()\n",
    "\n",
    "    src_reconstruction_loss.backward(retain_graph=True)\n",
    "    trg_reconstruction_loss.backward(retain_graph=True)\n",
    "    gen_src_to_trg_loss.backward(retain_graph=True)\n",
    "    gen_trg_to_src_loss.backward(retain_graph=True)\n",
    "    \n",
    "    transformer_src_to_trg_optimizer.step()\n",
    "    transformer_trg_to_src_optimizer.step()"
   ]
  }
 ],
 "metadata": {
  "kernelspec": {
   "display_name": "Python 3",
   "language": "python",
   "name": "python3"
  },
  "language_info": {
   "codemirror_mode": {
    "name": "ipython",
    "version": 3
   },
   "file_extension": ".py",
   "mimetype": "text/x-python",
   "name": "python",
   "nbconvert_exporter": "python",
   "pygments_lexer": "ipython3",
   "version": "3.6.3"
  }
 },
 "nbformat": 4,
 "nbformat_minor": 2
}
