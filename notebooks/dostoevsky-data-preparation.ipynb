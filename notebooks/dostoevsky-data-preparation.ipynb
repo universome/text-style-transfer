{
 "cells": [
  {
   "cell_type": "code",
   "execution_count": 1,
   "metadata": {},
   "outputs": [],
   "source": [
    "import os\n",
    "from os import path\n",
    "\n",
    "books = []\n",
    "\n",
    "for bookname in os.listdir('../data/dostoevsky'):\n",
    "    book = open(path.join('../data/dostoevsky', bookname), 'r', encoding='utf-8').read().splitlines()\n",
    "    book = [line for line in book if len(line) > 0]\n",
    "    books.append(book)\n",
    "    \n",
    "data = [s for book in books for s in book]"
   ]
  },
  {
   "cell_type": "code",
   "execution_count": 2,
   "metadata": {},
   "outputs": [],
   "source": [
    "with open('../data/generated/dostoevsky_joined.txt', 'w', encoding='utf-8') as f:\n",
    "    for line in data:\n",
    "        f.write(line + '\\n')"
   ]
  },
  {
   "cell_type": "code",
   "execution_count": 3,
   "metadata": {},
   "outputs": [
    {
     "name": "stderr",
     "output_type": "stream",
     "text": [
      "Sentence Splitter v3\n",
      "Language: ru\n"
     ]
    }
   ],
   "source": [
    "%%bash\n",
    "\n",
    "dostoevsky_joined=\"../data/generated/dostoevsky_joined.txt\"\n",
    "dostoevsky_sent_split=\"../data/generated/dostoevsky_sent_split.txt\"\n",
    "mosesdecoder=\"../ext-libs/mosesdecoder\"\n",
    "\n",
    "$mosesdecoder/scripts/ems/support/split-sentences.perl -l ru \\\n",
    "    < $dostoevsky_joined > $dostoevsky_sent_split\n",
    "\n",
    "rm $dostoevsky_joined"
   ]
  },
  {
   "cell_type": "code",
   "execution_count": 4,
   "metadata": {},
   "outputs": [
    {
     "name": "stdout",
     "output_type": "stream",
     "text": [
      "100937 ../data/generated/dostoevsky_sent_split.txt\n"
     ]
    }
   ],
   "source": [
    "!wc -l ../data/generated/dostoevsky_sent_split.txt"
   ]
  },
  {
   "cell_type": "code",
   "execution_count": 11,
   "metadata": {},
   "outputs": [],
   "source": [
    "data = open('../data/generated/dostoevsky_sent_split.txt', 'r', encoding='utf-8').read().splitlines()"
   ]
  },
  {
   "cell_type": "markdown",
   "metadata": {},
   "source": [
    "Let's tokenize our Dostoevsky dataset"
   ]
  },
  {
   "cell_type": "code",
   "execution_count": 13,
   "metadata": {},
   "outputs": [
    {
     "name": "stderr",
     "output_type": "stream",
     "text": [
      "Tokenizer Version 1.1\n",
      "Language: ru\n",
      "Number of threads: 6\n"
     ]
    }
   ],
   "source": [
    "%%bash\n",
    "\n",
    "mosesdecoder=\"../ext-libs/mosesdecoder\"\n",
    "generated_data_dir=\"../data/generated\"\n",
    "\n",
    "threads=6\n",
    "\n",
    "cat \"$generated_data_dir/dostoevsky_sent_split.txt\" | \\\n",
    "$mosesdecoder/scripts/tokenizer/normalize-punctuation.perl -l ru | \\\n",
    "$mosesdecoder/scripts/tokenizer/tokenizer.perl -threads $threads -l ru > \\\n",
    "$generated_data_dir/dostoevsky.tok"
   ]
  },
  {
   "cell_type": "code",
   "execution_count": null,
   "metadata": {},
   "outputs": [],
   "source": [
    "import fasttext\n",
    "\n",
    "num_threads = 6\n",
    "\n",
    "model_trg = fasttext.skipgram('../data/generated/dostoevsky.tok',\n",
    "                              '../trained_models/dostoevsky.tok.cbow',\n",
    "                              dim=512, min_count=5, silent=0, thread=num_threads)"
   ]
  }
 ],
 "metadata": {
  "kernelspec": {
   "display_name": "Python 3",
   "language": "python",
   "name": "python3"
  },
  "language_info": {
   "codemirror_mode": {
    "name": "ipython",
    "version": 3
   },
   "file_extension": ".py",
   "mimetype": "text/x-python",
   "name": "python",
   "nbconvert_exporter": "python",
   "pygments_lexer": "ipython3",
   "version": "3.6.3"
  }
 },
 "nbformat": 4,
 "nbformat_minor": 2
}
