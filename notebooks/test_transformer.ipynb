{
 "cells": [
  {
   "cell_type": "markdown",
   "metadata": {},
   "source": [
    "Here we should make sure that our Transformer implementation works properly. For this purpose we gonna learn to translate on En-De pair"
   ]
  },
  {
   "cell_type": "code",
   "execution_count": 3,
   "metadata": {},
   "outputs": [],
   "source": [
    "import sys; sys.path.append('..')"
   ]
  },
  {
   "cell_type": "code",
   "execution_count": null,
   "metadata": {},
   "outputs": [],
   "source": [
    "import torch\n",
    "import torch.nn as nn"
   ]
  },
  {
   "cell_type": "markdown",
   "metadata": {},
   "source": [
    "Generating BPEs (joint for both langs)"
   ]
  },
  {
   "cell_type": "code",
   "execution_count": 21,
   "metadata": {},
   "outputs": [],
   "source": [
    "%%bash\n",
    "src=\"../data/multi30k/train.en\"\n",
    "trg=\"../data/multi30k/train.de\"\n",
    "num_bpes=16000\n",
    "\n",
    "bpes=\"../data/generated/bpes\"\n",
    "src_vocab=\"../data/generated/vocab.en\"\n",
    "trg_vocab=\"../data/generated/vocab.de\"\n",
    "\n",
    "python ../ext-libs/subword-nmt/learn_joint_bpe_and_vocab.py \\\n",
    "    --input \"$src\" \"$trg\"\n",
    "    -s \"$num_bpes\"\n",
    "    -o \"$bpes\"\n",
    "    --write-vocabulary \"$src_vocab\" \"$trg_vocab\"\n",
    "\n",
    "# Now we should apply bpe for all our train/test/val files\n",
    "for file in $(ls ../data/multi30k)\n",
    "do\n",
    "    #if [ ${file: -2} == \"en\" ]; then vocab=\"$src_vocab\"; else vocab=\"$trg_vocab\"; fi\n",
    "    vocab=\"../data/generated/vocab.${file: -2}\"\n",
    "  \n",
    "    python ../ext-libs/subword-nmt/apply_bpe.py -c $bpes \\\n",
    "       --vocabulary \"$vocab\" \\\n",
    "       < \"../data/multi30k/$file\" > \"../data/generated/$file.bpe\"\n",
    "done"
   ]
  },
  {
   "cell_type": "code",
   "execution_count": null,
   "metadata": {},
   "outputs": [],
   "source": []
  }
 ],
 "metadata": {
  "kernelspec": {
   "display_name": "Python 3",
   "language": "python",
   "name": "python3"
  },
  "language_info": {
   "codemirror_mode": {
    "name": "ipython",
    "version": 3
   },
   "file_extension": ".py",
   "mimetype": "text/x-python",
   "name": "python",
   "nbconvert_exporter": "python",
   "pygments_lexer": "ipython3",
   "version": "3.6.3"
  }
 },
 "nbformat": 4,
 "nbformat_minor": 2
}
